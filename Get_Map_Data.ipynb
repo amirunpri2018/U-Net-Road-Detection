{
 "cells": [
  {
   "cell_type": "markdown",
   "metadata": {},
   "source": [
    "Go to [Google cloud console](https://console.cloud.google.com/marketplace/details/google/static-maps-backend.googleapis.com?) and activate your static map API.\n",
    "Store your API key in a file somewhere safe and accessible, we will need it."
   ]
  },
  {
   "cell_type": "code",
   "execution_count": 1,
   "metadata": {},
   "outputs": [],
   "source": [
    "import requests"
   ]
  },
  {
   "cell_type": "code",
   "execution_count": 2,
   "metadata": {},
   "outputs": [],
   "source": [
    "def get_api_key():\n",
    "    with open('/home/gokul/.api_keys/static_gmaps.key') as rfile:\n",
    "        return rfile.readline()[:-1]"
   ]
  },
  {
   "cell_type": "code",
   "execution_count": 3,
   "metadata": {},
   "outputs": [],
   "source": [
    "api_key = get_api_key()"
   ]
  },
  {
   "cell_type": "markdown",
   "metadata": {},
   "source": [
    "Check out [Google maps API Reference](https://developers.google.com/maps/documentation/maps-static/dev-guide)"
   ]
  },
  {
   "cell_type": "code",
   "execution_count": 4,
   "metadata": {},
   "outputs": [],
   "source": [
    "def get_static_map(lat=40.714738, long=-73.998693, zoom=12,\n",
    "                   size=512, maptype='terrain', labels=False):\n",
    "    \n",
    "    # maptype options: roadmap/terrain/satellite\n",
    "    \n",
    "    url = \"https://maps.google.com/maps/api/staticmap?\"\n",
    "    # url += \"sensor=false&\"\n",
    "    url += f\"size={size}x{size}&\"\n",
    "    url += f\"center={lat},{long}&\"\n",
    "    url += f\"zoom={zoom}&\"\n",
    "    url += f\"maptype={maptype}&\"\n",
    "    if not labels:\n",
    "        url += \"style=feature:all|element:labels|visibility:off&\"\n",
    "    url += f\"key={api_key}\"\n",
    "    data = requests.get(url)\n",
    "    return data.content"
   ]
  },
  {
   "cell_type": "code",
   "execution_count": 5,
   "metadata": {},
   "outputs": [],
   "source": [
    "def save_image(data, fname):\n",
    "    with open(fname, 'wb') as wfile:\n",
    "        wfile.write(data)"
   ]
  },
  {
   "cell_type": "markdown",
   "metadata": {},
   "source": [
    "Let's get some idea which zoom level and maptype will be suitable"
   ]
  },
  {
   "cell_type": "code",
   "execution_count": 6,
   "metadata": {},
   "outputs": [],
   "source": [
    "for m in ['terrain', 'satellite', 'roadmap', 'hybrid']:\n",
    "    for z in range(12, 19):\n",
    "        save_image(get_static_map(zoom=z, maptype=m),\n",
    "                   'checking/' + str(z) + '/' + m + str(z) + '.png')"
   ]
  },
  {
   "cell_type": "markdown",
   "metadata": {},
   "source": [
    "Looking manually through map images all the zoom levels generated above, I choose to work with zoom level 16"
   ]
  },
  {
   "cell_type": "markdown",
   "metadata": {},
   "source": [
    "Input Map\n",
    "----------------\n",
    "\n",
    "<img src=\"images/satellite16.png\" alt=\"Drawing\" style=\"width: 300px;\"/>\n"
   ]
  },
  {
   "cell_type": "markdown",
   "metadata": {},
   "source": [
    "Output Map\n",
    "----------------\n",
    "\n",
    "<img src=\"images/terrain16.png\" alt=\"Drawing\" style=\"width: 300px;\"/>"
   ]
  }
 ],
 "metadata": {
  "kernelspec": {
   "display_name": "Python 3",
   "language": "python",
   "name": "python3"
  },
  "language_info": {
   "codemirror_mode": {
    "name": "ipython",
    "version": 3
   },
   "file_extension": ".py",
   "mimetype": "text/x-python",
   "name": "python",
   "nbconvert_exporter": "python",
   "pygments_lexer": "ipython3",
   "version": "3.6.5"
  }
 },
 "nbformat": 4,
 "nbformat_minor": 2
}
