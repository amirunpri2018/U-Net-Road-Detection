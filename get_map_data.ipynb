{
 "cells": [
  {
   "cell_type": "markdown",
   "metadata": {},
   "source": [
    "Getting Satellite images and Terrain maps\n",
    "-----------------------------------------------------------"
   ]
  },
  {
   "cell_type": "markdown",
   "metadata": {},
   "source": [
    "Go to [Google cloud console](https://console.cloud.google.com/marketplace/details/google/static-maps-backend.googleapis.com?) and activate your static map API.\n",
    "Store your API key in a file somewhere safe and accessible, we will need it."
   ]
  },
  {
   "cell_type": "code",
   "execution_count": 1,
   "metadata": {},
   "outputs": [],
   "source": [
    "import requests"
   ]
  },
  {
   "cell_type": "code",
   "execution_count": 2,
   "metadata": {},
   "outputs": [],
   "source": [
    "def get_api_key():\n",
    "    with open('/home/gokul/.api_keys/static_gmaps.key') as rfile:\n",
    "        return rfile.readline()[:-1]"
   ]
  },
  {
   "cell_type": "code",
   "execution_count": 3,
   "metadata": {},
   "outputs": [],
   "source": [
    "api_key = get_api_key()"
   ]
  },
  {
   "cell_type": "markdown",
   "metadata": {},
   "source": [
    "Check out [Google Maps API Reference](https://developers.google.com/maps/documentation/maps-static/dev-guide)"
   ]
  },
  {
   "cell_type": "code",
   "execution_count": 4,
   "metadata": {},
   "outputs": [],
   "source": [
    "def get_static_map(lat=40.714738, long=-73.998693, zoom=12,\n",
    "                   size=512, maptype='terrain', labels=False):\n",
    "    \n",
    "    url = \"https://maps.google.com/maps/api/staticmap?\"\n",
    "    # url += \"sensor=false&\"\n",
    "    url += f\"size={size}x{size}&\"\n",
    "    url += f\"center={lat},{long}&\"\n",
    "    url += f\"zoom={zoom}&\"\n",
    "    url += f\"maptype={maptype}&\"\n",
    "    if not labels:\n",
    "        url += \"style=feature:all|element:labels|visibility:off&\"\n",
    "    url += f\"key={api_key}\"\n",
    "    data = requests.get(url)\n",
    "    return data.content"
   ]
  },
  {
   "cell_type": "code",
   "execution_count": 5,
   "metadata": {},
   "outputs": [],
   "source": [
    "def save_image(data, fname):\n",
    "    with open(fname, 'wb') as wfile:\n",
    "        wfile.write(data)"
   ]
  },
  {
   "cell_type": "markdown",
   "metadata": {},
   "source": [
    "Let's get some idea which zoom level and maptype will be suitable for our purpose"
   ]
  },
  {
   "cell_type": "code",
   "execution_count": 6,
   "metadata": {},
   "outputs": [],
   "source": [
    "for m in ['terrain', 'satellite', 'roadmap', 'hybrid']:\n",
    "    for z in range(12, 19):\n",
    "        save_image(get_static_map(zoom=z, maptype=m),\n",
    "                   'checking/' + str(z) + '/' + m + str(z) + '.png')"
   ]
  },
  {
   "cell_type": "markdown",
   "metadata": {},
   "source": [
    "Looking manually through map images all the zoom levels generated above, I choose to work with zoom level 16"
   ]
  },
  {
   "cell_type": "markdown",
   "metadata": {},
   "source": [
    "Input Map\n",
    "----------------\n",
    "\n",
    "<img src=\"images/satellite16.png\" alt=\"Drawing\" style=\"width: 300px;\"/>\n"
   ]
  },
  {
   "cell_type": "markdown",
   "metadata": {},
   "source": [
    "Output Map\n",
    "----------------\n",
    "\n",
    "<img src=\"images/terrain16.png\" alt=\"Drawing\" style=\"width: 300px;\"/>"
   ]
  },
  {
   "cell_type": "markdown",
   "metadata": {},
   "source": [
    "Let's check at this zoom level, what is scale of the map we got."
   ]
  },
  {
   "cell_type": "markdown",
   "metadata": {},
   "source": [
    "Using Google maps distance measurement tool, the aproximate length cover my the above map is `~ 930 m (3050 ft)`"
   ]
  },
  {
   "cell_type": "markdown",
   "metadata": {},
   "source": [
    "<img src=\"images/distance.png\" alt=\"Drawing\" style=\"width: 300px;\"/>"
   ]
  },
  {
   "cell_type": "markdown",
   "metadata": {},
   "source": [
    "Let's suppose we choose a city ex. *San Francisco*, then we could get enough map data by calling the above function n-times with randomly choosen lat-longs inside the city. To make sure that no 2 maps images overlap the same area/land, we need to make sure that the choosen lat-longs are atleast `930 m` away (let's say `1000 m` away for saftey). "
   ]
  },
  {
   "cell_type": "markdown",
   "metadata": {},
   "source": [
    "**\\# bounding boxes of city**"
   ]
  },
  {
   "cell_type": "markdown",
   "metadata": {},
   "source": [
    "If we know the bounding boxed of a city, we can divide the whole city into `1000 m` by `1000 m` grids, we could either use all the lat-longs from grid or randomly select some to get the required maps."
   ]
  },
  {
   "cell_type": "markdown",
   "metadata": {},
   "source": [
    "**We can randomly generate lat-longs, but how do we know it is inside the city or even worse not in the ocean ?**"
   ]
  },
  {
   "cell_type": "markdown",
   "metadata": {},
   "source": [
    "I found Geographical boundaries of Bay Area [here](https://data.sfgov.org/Geographic-Locations-and-Boundaries/Bay-Area-Counties/s9wg-vcph)"
   ]
  },
  {
   "cell_type": "markdown",
   "metadata": {},
   "source": [
    "<img src=\"images/counties.png\" alt=\"Drawing\" style=\"width: 300px;\"/>"
   ]
  },
  {
   "cell_type": "code",
   "execution_count": 7,
   "metadata": {},
   "outputs": [],
   "source": [
    "import shapefile\n",
    "import numpy as np\n",
    "import matplotlib.pyplot as plt"
   ]
  },
  {
   "cell_type": "code",
   "execution_count": 22,
   "metadata": {},
   "outputs": [],
   "source": [
    "%matplotlib inline\n",
    "plt.style.use(\"ggplot\")"
   ]
  },
  {
   "cell_type": "code",
   "execution_count": 9,
   "metadata": {},
   "outputs": [],
   "source": [
    "sf = shapefile.Reader('SanFrancisco/BayAreaCounties.shp')"
   ]
  },
  {
   "cell_type": "code",
   "execution_count": 10,
   "metadata": {},
   "outputs": [
    {
     "data": {
      "text/plain": [
       "9"
      ]
     },
     "execution_count": 10,
     "metadata": {},
     "output_type": "execute_result"
    }
   ],
   "source": [
    "len(sf.shapes())"
   ]
  },
  {
   "cell_type": "markdown",
   "metadata": {},
   "source": [
    "This shape file contains 9 Counties"
   ]
  },
  {
   "cell_type": "code",
   "execution_count": 24,
   "metadata": {},
   "outputs": [],
   "source": [
    "county = sf.shape(3)"
   ]
  },
  {
   "cell_type": "markdown",
   "metadata": {},
   "source": [
    "Bounding Box for Napa county"
   ]
  },
  {
   "cell_type": "code",
   "execution_count": 25,
   "metadata": {},
   "outputs": [
    {
     "data": {
      "text/plain": [
       "[-122.64642100248683, 38.15489399914849, -122.06137900148687, 38.864244998709104]"
      ]
     },
     "execution_count": 25,
     "metadata": {},
     "output_type": "execute_result"
    }
   ],
   "source": [
    "county.bbox"
   ]
  },
  {
   "cell_type": "code",
   "execution_count": 26,
   "metadata": {},
   "outputs": [],
   "source": [
    "x_lon = np.array([point[0] for point in county.points])\n",
    "y_lat = np.array([point[1] for point in county.points])"
   ]
  },
  {
   "cell_type": "code",
   "execution_count": 27,
   "metadata": {},
   "outputs": [
    {
     "data": {
      "text/plain": [
       "[<matplotlib.lines.Line2D at 0x7f5837eea5c0>]"
      ]
     },
     "execution_count": 27,
     "metadata": {},
     "output_type": "execute_result"
    },
    {
     "data": {
      "image/png": "[encoded data removed]",
      "text/plain": [
       "<Figure size 432x288 with 1 Axes>"
      ]
     },
     "metadata": {},
     "output_type": "display_data"
    }
   ],
   "source": [
    "plt.plot(x_lon, y_lat,'k')"
   ]
  },
  {
   "cell_type": "code",
   "execution_count": 28,
   "metadata": {},
   "outputs": [
    {
     "data": {
      "text/plain": [
       "[<matplotlib.lines.Line2D at 0x7f584c25e550>]"
      ]
     },
     "execution_count": 28,
     "metadata": {},
     "output_type": "execute_result"
    },
    {
     "data": {
      "image/png": "[encoded data removed]",
      "text/plain": [
       "<Figure size 432x288 with 1 Axes>"
      ]
     },
     "metadata": {},
     "output_type": "display_data"
    }
   ],
   "source": [
    "county = sf.shape(4)\n",
    "x_lon = np.array([point[0] for point in county.points])\n",
    "y_lat = np.array([point[1] for point in county.points])\n",
    "\n",
    "# removing the islands\n",
    "check1 = x_lon >= -122.6\n",
    "check2 = y_lat <= 37.82\n",
    "check3 = x_lon <= -122.35\n",
    "check = check1 & check2 & check3\n",
    "\n",
    "plt.plot(x_lon[check], y_lat[check],'k')"
   ]
  },
  {
   "cell_type": "code",
   "execution_count": 30,
   "metadata": {},
   "outputs": [
    {
     "name": "stdout",
     "output_type": "stream",
     "text": [
      "-123.10802700119842 -122.32768100246903\n",
      "37.69306499862042 37.863425998396984\n"
     ]
    }
   ],
   "source": [
    "print(x_lon.min(), x_lon.max())\n",
    "print(y_lat.min(), y_lat.max())"
   ]
  },
  {
   "cell_type": "markdown",
   "metadata": {},
   "source": [
    "We choose **Napa** and **San Francisco** counties as one will be city other will be urban"
   ]
  },
  {
   "cell_type": "markdown",
   "metadata": {},
   "source": [
    "**Creating a `1000 m` x `1000 m` Grid**"
   ]
  },
  {
   "cell_type": "code",
   "execution_count": 31,
   "metadata": {},
   "outputs": [],
   "source": [
    "import math\n",
    "from shapely.geometry import Polygon, Point"
   ]
  },
  {
   "cell_type": "markdown",
   "metadata": {},
   "source": [
    "Since Earth is sperical the actual disctance between 2 points is not the eucledian distance but the distance across the great-circle joining the 2 points. To do this we need to use somthing called [HaverSine](https://en.wikipedia.org/wiki/Haversine_formula) formulae. \n",
    "\n",
    "Ideally we would be implementing [this algorithm](http://www.edwilliams.org/avform.htm#LL) to find a lat-long that is some distance away from the reference at some angle with respect to due north. But since our distance is small we don't have to go through the this hasle. There is this quick and dirty trick mentioned [here](https://gis.stackexchange.com/questions/2951/algorithm-for-offsetting-a-latitude-longitude-by-some-amount-of-meters?rq=1)."
   ]
  },
  {
   "cell_type": "code",
   "execution_count": 34,
   "metadata": {},
   "outputs": [],
   "source": [
    "def project_lat_long(lat, long, theta, dist):\n",
    "    \n",
    "    '''\n",
    "    function to get new lat-long which is far away from the \n",
    "    given lat-long by `dist` [meters] at an `theta` [degrees]\n",
    "    from the north measured in clockwise direction.\n",
    "    '''\n",
    "    lat_to_km = 111_111    # in meters\n",
    "    \n",
    "    return "
   ]
  },
  {
   "cell_type": "code",
   "execution_count": 32,
   "metadata": {},
   "outputs": [],
   "source": [
    "def is_point_inside_poly(poly_object, search_point):\n",
    "    return search_point.within(poly_object)"
   ]
  },
  {
   "cell_type": "code",
   "execution_count": null,
   "metadata": {},
   "outputs": [],
   "source": [
    "def make_grids(lat_min, lat_max, long_max, long_min, min_dis=1000):\n",
    "    "
   ]
  }
 ],
 "metadata": {
  "kernelspec": {
   "display_name": "Python 3",
   "language": "python",
   "name": "python3"
  },
  "language_info": {
   "codemirror_mode": {
    "name": "ipython",
    "version": 3
   },
   "file_extension": ".py",
   "mimetype": "text/x-python",
   "name": "python",
   "nbconvert_exporter": "python",
   "pygments_lexer": "ipython3",
   "version": "3.6.5"
  }
 },
 "nbformat": 4,
 "nbformat_minor": 2
}
