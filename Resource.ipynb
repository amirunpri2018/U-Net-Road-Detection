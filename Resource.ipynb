{
 "cells": [
  {
   "cell_type": "markdown",
   "metadata": {},
   "source": [
    "Papers\n",
    "----------\n",
    "* [U-Net](https://arxiv.org/pdf/1505.04597.pdf)\n",
    "* [Road Extraction by Deep Residual U-Net](https://arxiv.org/pdf/1711.10684.pdf)\n",
    "* [Satellite Image Segmentation for Building Detection\n",
    "using U-net](http://cs229.stanford.edu/proj2017/final-reports/5243715.pdf)\n",
    "\n",
    "DataSet\n",
    "-----------\n",
    "* [kaggle](https://www.kaggle.com/c/dstl-satellite-imagery-feature-detection/data)\n",
    "\n",
    "\n",
    "Blogs\n",
    "--------\n",
    "* [Up-sampling with Transposed Convolution](https://towardsdatascience.com/up-sampling-with-transposed-convolution-9ae4f2df52d0)"
   ]
  }
 ],
 "metadata": {
  "kernelspec": {
   "display_name": "Python 3",
   "language": "python",
   "name": "python3"
  },
  "language_info": {
   "codemirror_mode": {
    "name": "ipython",
    "version": 3
   },
   "file_extension": ".py",
   "mimetype": "text/x-python",
   "name": "python",
   "nbconvert_exporter": "python",
   "pygments_lexer": "ipython3",
   "version": "3.6.5"
  }
 },
 "nbformat": 4,
 "nbformat_minor": 2
}
