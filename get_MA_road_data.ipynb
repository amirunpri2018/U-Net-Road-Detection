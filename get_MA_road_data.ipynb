{
 "cells": [
  {
   "cell_type": "markdown",
   "metadata": {},
   "source": [
    "DataSet:\n",
    "-------\n",
    "- [Massachusetts Roads Dataset](https://www.cs.toronto.edu/~vmnih/data/)"
   ]
  },
  {
   "cell_type": "markdown",
   "metadata": {},
   "source": [
    "Referece:\n",
    "-------\n",
    "- [paper link](https://arxiv.org/pdf/1711.10684.pdf)"
   ]
  },
  {
   "cell_type": "code",
   "execution_count": 1,
   "metadata": {},
   "outputs": [],
   "source": [
    "import os\n",
    "import requests\n",
    "from pathlib import Path\n",
    "from multiprocessing import Pool\n",
    "from bs4 import BeautifulSoup as bs"
   ]
  },
  {
   "cell_type": "code",
   "execution_count": 13,
   "metadata": {},
   "outputs": [],
   "source": [
    "url = \"https://www.cs.toronto.edu/~vmnih/data/mass_roads/{}/{}/index.html\"\n",
    "\n",
    "path = Path('/home/gokul/Data/UNet-RoadDetection/')\n",
    "sets = ['train', 'test', 'valid']\n",
    "types = ['sat', 'map']\n",
    "\n",
    "no_process = 6"
   ]
  },
  {
   "cell_type": "code",
   "execution_count": 4,
   "metadata": {},
   "outputs": [],
   "source": [
    "def save_file(link):\n",
    "    flink = link[0]\n",
    "    fname = link[1]\n",
    "    if not flink.endswith('.html'):\n",
    "        data = requests.get(flink)\n",
    "        with open(fname, 'wb') as wfile:\n",
    "            wfile.write(data.content)"
   ]
  },
  {
   "cell_type": "markdown",
   "metadata": {},
   "source": [
    "Download all files and save with folder structure"
   ]
  },
  {
   "cell_type": "code",
   "execution_count": 14,
   "metadata": {},
   "outputs": [],
   "source": [
    "p = Pool(processes=no_process)\n",
    "\n",
    "for s in sets:\n",
    "    for t in types:\n",
    "        os.makedirs(path/'data'/s/t, exist_ok=True)\n",
    "        page = requests.get(url.format(s, t))\n",
    "        soup = bs(page.content, \"lxml\")\n",
    "        job_list = [(link['href'], str(path/'data'/s/t/link.text)) for link in soup.find_all('a')]\n",
    "        p.map(save_file, job_list)"
   ]
  },
  {
   "cell_type": "markdown",
   "metadata": {},
   "source": [
    "This took decent amount of time to download"
   ]
  },
  {
   "cell_type": "markdown",
   "metadata": {},
   "source": [
    "most of the images in the folder train/sat folder looks corrupted"
   ]
  },
  {
   "cell_type": "markdown",
   "metadata": {},
   "source": [
    "![Faulty](images/faulty.png)"
   ]
  },
  {
   "cell_type": "markdown",
   "metadata": {},
   "source": [
    "This problem persisted even when those images were downloaded manually in a browser."
   ]
  },
  {
   "cell_type": "markdown",
   "metadata": {},
   "source": [
    "Masks/Map dosen't seem to suffer from this problem"
   ]
  },
  {
   "cell_type": "markdown",
   "metadata": {},
   "source": [
    "![Maps](images/maps.png)"
   ]
  }
 ],
 "metadata": {
  "kernelspec": {
   "display_name": "Python 3",
   "language": "python",
   "name": "python3"
  },
  "language_info": {
   "codemirror_mode": {
    "name": "ipython",
    "version": 3
   },
   "file_extension": ".py",
   "mimetype": "text/x-python",
   "name": "python",
   "nbconvert_exporter": "python",
   "pygments_lexer": "ipython3",
   "version": "3.6.5"
  }
 },
 "nbformat": 4,
 "nbformat_minor": 2
}
